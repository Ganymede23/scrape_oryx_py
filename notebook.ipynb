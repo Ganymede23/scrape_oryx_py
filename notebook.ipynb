{
 "cells": [
  {
   "cell_type": "code",
   "execution_count": 52,
   "id": "55fbddc8-05a8-453d-9e07-652af653f893",
   "metadata": {},
   "outputs": [],
   "source": [
    "import requests\n",
    "from bs4 import BeautifulSoup\n",
    "import pandas as pd\n",
    "import re\n",
    "import os\n",
    "from datetime import datetime\n",
    "from matplotlib import pyplot as plt\n",
    "import seaborn as sns\n",
    "\n",
    "pd.set_option('display.max_rows', None)"
   ]
  },
  {
   "cell_type": "code",
   "execution_count": 53,
   "id": "c566db8e-5de6-4311-b1d4-145fd5b299be",
   "metadata": {},
   "outputs": [],
   "source": [
    "URL = \"https://www.oryxspioenkop.com/2022/02/attack-on-europe-documenting-equipment.html\"\n",
    "page = requests.get(URL)\n",
    "soup = BeautifulSoup(page.content, \"html.parser\")\n",
    "results = soup.find(id=\"post-body-8087922975012177708\")"
   ]
  },
  {
   "cell_type": "code",
   "execution_count": 54,
   "id": "51b94ff4-a9ab-4343-a60c-759bd6ebe4ca",
   "metadata": {},
   "outputs": [],
   "source": [
    "all_h3 = soup.find_all('h3')"
   ]
  },
  {
   "cell_type": "code",
   "execution_count": 55,
   "id": "4b92a526-2851-4b0c-9fa3-001c061a2124",
   "metadata": {},
   "outputs": [],
   "source": [
    "equipment_types_auto_tmp = []\n",
    "equipment_types_auto = []"
   ]
  },
  {
   "cell_type": "code",
   "execution_count": 56,
   "id": "25f523a8-804a-4511-a2a6-68ae7234657d",
   "metadata": {},
   "outputs": [],
   "source": [
    "for h3 in all_h3:\n",
    "    if not 'Ukraine' in h3.get_text() and not 'Russia' in h3.get_text():\n",
    "        equipment_type = h3.get_text().partition(\"(\")[0]\n",
    "        equipment_type = re.sub(r\"\\s$\", \"\", equipment_type)\n",
    "        equipment_types_auto_tmp.append([equipment_type])\n",
    "        \n",
    "for i in equipment_types_auto_tmp:\n",
    "    if i not in equipment_types_auto:\n",
    "        equipment_types_auto.append(i)\n",
    "        \n",
    "equipment_types_auto = [val for sublist in equipment_types_auto for val in sublist]\n",
    "equipment_types_auto.remove('')"
   ]
  },
  {
   "cell_type": "code",
   "execution_count": 57,
   "id": "0e4a98af-63ce-47da-8f55-6422f1ed65a6",
   "metadata": {},
   "outputs": [
    {
     "data": {
      "text/plain": [
       "['Tanks',\n",
       " 'Armoured Fighting Vehicles',\n",
       " 'Infantry Fighting Vehicles',\n",
       " 'Armoured Personnel Carriers',\n",
       " 'Mine-Resistant Ambush Protected',\n",
       " 'Infantry Mobility Vehicles',\n",
       " 'Communications Stations',\n",
       " 'Engineering Vehicles',\n",
       " 'Anti-Tank Guided Missiles',\n",
       " 'Man-Portable Air Defence Systems',\n",
       " 'Heavy Mortars',\n",
       " 'Towed Artillery',\n",
       " 'Self-Propelled Artillery',\n",
       " 'Multiple Rocket Launchers',\n",
       " 'Anti-Aircraft Guns',\n",
       " 'Self-Propelled Anti-Aircraft Guns',\n",
       " 'Surface-To-Air Missile Systems',\n",
       " 'Radars',\n",
       " 'Jammers And Deception Systems',\n",
       " 'Aircraft',\n",
       " 'Unmanned Aerial Vehicles',\n",
       " 'Helicopters',\n",
       " 'Logistics Trains',\n",
       " 'Trucks, Vehicles and Jeeps',\n",
       " 'Anti-tank Guided Missiles',\n",
       " 'Naval Ships']"
      ]
     },
     "execution_count": 57,
     "metadata": {},
     "output_type": "execute_result"
    }
   ],
   "source": [
    "equipment_types_auto"
   ]
  },
  {
   "cell_type": "code",
   "execution_count": 58,
   "id": "26318605-1b14-495a-b98f-43b906c7cf5c",
   "metadata": {},
   "outputs": [],
   "source": [
    "equipment_subtypes_auto_tmp = []\n",
    "equipment_subtypes_auto = []"
   ]
  },
  {
   "cell_type": "code",
   "execution_count": 59,
   "id": "513f40c4-05ad-4fde-b3e8-5333ecd7f21a",
   "metadata": {},
   "outputs": [],
   "source": [
    "all_li = soup.find_all('li', attrs={'class': None})"
   ]
  },
  {
   "cell_type": "code",
   "execution_count": 60,
   "id": "979a7db0-8c04-4394-a6f6-a7836de576c5",
   "metadata": {},
   "outputs": [],
   "source": [
    "for li in all_li:\n",
    "    equipment_subtype = re.search(r'(.*):', li.get_text())\n",
    "    if equipment_subtype is not None:\n",
    "        equipment_subtype = equipment_subtype.group(0)\n",
    "        equipment_subtype = re.sub(\"^ \\d+\", \"\", equipment_subtype)\n",
    "        equipment_subtype = re.sub(\":\", \"\", equipment_subtype)\n",
    "        equipment_subtype = re.sub(r\"^\\s\", \"\", equipment_subtype)\n",
    "        equipment_subtypes_auto_tmp.append([equipment_subtype])\n",
    "\n",
    "for i in equipment_subtypes_auto_tmp:\n",
    "    if i[0] not in equipment_subtypes_auto:\n",
    "        equipment_subtypes_auto.append(i[0])"
   ]
  },
  {
   "cell_type": "code",
   "execution_count": 61,
   "id": "8f5f7721-6161-479f-a8bd-c2d0130a0695",
   "metadata": {},
   "outputs": [
    {
     "data": {
      "text/plain": [
       "['T-64BV',\n",
       " 'T-72A',\n",
       " 'T-72AV',\n",
       " 'T-72B',\n",
       " 'T-72B Obr. 1989',\n",
       " 'T-72B3',\n",
       " 'T-72B3 Obr. 2016',\n",
       " 'T-80BV',\n",
       " 'T-80U',\n",
       " 'T-80UK',\n",
       " 'T-80BVM',\n",
       " 'T-90A',\n",
       " 'Unknown tank',\n",
       " 'BRM-1K',\n",
       " 'BMP-1Khs',\n",
       " 'MT-LB',\n",
       " 'MT-LB with ZU-23 AA gun',\n",
       " 'MT-LBM 6MB',\n",
       " 'MT-LB Ambulance',\n",
       " 'MT-LBu',\n",
       " '1V13 battery fire control center',\n",
       " 'Vityaz DT-30 articulated tracked carrier',\n",
       " '2S1 with ZU-23 AA gun',\n",
       " '9P149 Shturm-S ATGM carrier',\n",
       " 'BMD-1KSh-A command vehicle',\n",
       " 'R-149MA1 unified command and staff vehicle',\n",
       " 'R-149MA3 command and staff vehicle',\n",
       " '1V119 artillery battalion fire direction vehicle',\n",
       " 'TZM-T reloader vehicle (for TOS-1A)',\n",
       " 'Unknown BTR-D/BMD-2',\n",
       " 'Unknown AFV',\n",
       " 'BMP-1(P)',\n",
       " 'BMP-2',\n",
       " 'BMP-2K',\n",
       " 'BMP-3',\n",
       " 'BMD-2',\n",
       " 'BMD-4M',\n",
       " 'BTR-82A',\n",
       " 'BTR-80',\n",
       " 'BTR-D',\n",
       " \"BTR-MDM 'Rakushka'\",\n",
       " \"KamAZ-63968 'Typhoon'\",\n",
       " 'K-53949 Typhoon-K',\n",
       " \"K-53949 'Linza'\",\n",
       " 'GAZ Tigr-M',\n",
       " \"Iveco LMV 'Rys'\",\n",
       " 'MP-2IM signals vehicle',\n",
       " 'Barnaul-T 9С932-1 automated system for air defence units',\n",
       " 'R-166-0.5 signals vehicle',\n",
       " 'R-419L1 communications station',\n",
       " 'Unknown communications station based on the KamAZ 6x6',\n",
       " 'Unknown communications station',\n",
       " 'BTR-D APC with UR-67 mine clearing charge',\n",
       " \"UR-77 'Meterorit'  mine clearing vehicle\",\n",
       " 'GMZ-3 minelayer',\n",
       " 'BAT-2 heavy engineering vehicle',\n",
       " 'BREM-1 armoured recovery vehicle',\n",
       " 'BREM-K armoured recovery vehicle',\n",
       " \"BREM-Ch ''BREM-4'' armoured recovery vehicle\",\n",
       " 'REM-KL armoured recovery vehicle',\n",
       " 'IMR-2 combat engineering vehicle',\n",
       " 'TMM-3 bridge layer',\n",
       " 'MTU-72 bridge layer',\n",
       " 'PMP floating bridge',\n",
       " 'PTS-3  tracked amphibious transport',\n",
       " 'KamAZ-5350 with EOV-3523 excavator',\n",
       " 'KamAZ-5350 with KS-45719-7M crane',\n",
       " 'KamAZ-5350 with crane',\n",
       " 'Ural-4320 Wrecker',\n",
       " '9M111 Fagot',\n",
       " '9M113 Konkurs',\n",
       " '9M113M Konkurs-M',\n",
       " '9М131F Metis-M1',\n",
       " '9M114 Kokon',\n",
       " '9K38 Igla',\n",
       " '9K333 Verba',\n",
       " '120mm 2B11/2S12',\n",
       " '120mm 2B11/2S12A',\n",
       " '120mm 2B16 Nona-K howitzer',\n",
       " '122mm D-30 howitzer 2A18',\n",
       " '152mm 2A65 Msta-B howitzer',\n",
       " '120mm 2S9 Nona',\n",
       " '122mm 2S1 Gvozdika',\n",
       " '152mm 2S3 Akatsiya',\n",
       " '152mm 2S19 Msta-S',\n",
       " \"122mm BM-21 'Grad'\",\n",
       " \"220mm BM-27 'Uragan'\",\n",
       " '122mm 2B17 Tornado-G',\n",
       " '220mm TOS-1A',\n",
       " '23mm ZU-23',\n",
       " \"BTR-ZD 'Skrezhet'\",\n",
       " '2K22M1 Tunguska',\n",
       " '9K33 Osa',\n",
       " '9K35 Strela-10',\n",
       " '9A310M1 TELAR (for Buk-M1-2)',\n",
       " '9A39M1 TEL (for Buk-M1-2)',\n",
       " '9A310M2 TELAR (for Buk-M2)',\n",
       " '9A39M2 TEL (for Buk-M2)',\n",
       " '9A330 Tor TLAR (for 9K330 Tor-M)',\n",
       " '9A331 TLAR (for 9K331 Tor-M1)',\n",
       " '9A331M TLAR (for 9K332 Tor-M2)',\n",
       " 'Pantsir-S1',\n",
       " '9S18М1(-3) (for Buk-M3)',\n",
       " 'R-330BMV Borisoglebsk-2B',\n",
       " 'Su-25 close air support aircraft',\n",
       " 'Su-30SM multirole aircraft',\n",
       " 'Su-34 strike aircraft',\n",
       " 'An-26 transport aircraft',\n",
       " 'Forpost reconnaissance UAV',\n",
       " 'Orlan-10 reconnaissance UAV',\n",
       " 'Eleron-3 reconnaissance UAV',\n",
       " 'ZALA Aero KUB-BLA loitering munition ',\n",
       " 'E95M target drone (likely used as unmanned bait in order for Ukraine to reveal the location of air defence systems)',\n",
       " 'Mi-8 transport helicopter',\n",
       " 'Mi-24V/P attack helicopter',\n",
       " 'Mi-35M attack helicopter',\n",
       " 'Unknown Mi-24/35 attack helicopter',\n",
       " 'Mi-28 attack helicopter',\n",
       " \"Ka-52 'Alligator' attack helicopter\",\n",
       " 'Fuel train',\n",
       " 'GAZ-66',\n",
       " 'ZiL-131',\n",
       " \"9T452 transporter-loader (for BM-27 'Uragan' MRL)\",\n",
       " '9T217 transloader (for 9K33 Osa)',\n",
       " 'GAZ-3308',\n",
       " 'GAZ Sobol',\n",
       " 'Ural-4320',\n",
       " 'Ural-43206',\n",
       " 'Ural Federal',\n",
       " 'Ural-542301 tank transporter',\n",
       " 'KamAZ 4x4',\n",
       " 'KamAZ 6x6',\n",
       " 'KamAZ Avtozaks',\n",
       " 'KamAZ with armoured cabin',\n",
       " 'KamAZ-6350 8x8 artillery tractor',\n",
       " 'UAZ-469',\n",
       " 'UAZ Patriot',\n",
       " 'UAZ-23632',\n",
       " 'Armoured SUV',\n",
       " 'Unknown truck',\n",
       " '(Unknown) vehicle',\n",
       " 'BRDM-2',\n",
       " '9P148 Konkurs ATGM carrier',\n",
       " 'BSEM-4K',\n",
       " 'BREM-1 ARV',\n",
       " 'Vepr MRAP',\n",
       " \"1V18 'Klyon-1' artillery command and forward observer vehicle\",\n",
       " 'SNAR-10 battlefield surveillance radar',\n",
       " 'BMP-1 BM',\n",
       " 'BTR-4',\n",
       " 'BTR-3',\n",
       " 'BTR-60',\n",
       " 'BTR-70',\n",
       " \"AT105A 'Saxon'\",\n",
       " 'Unknown BTR',\n",
       " 'HMMWV',\n",
       " 'Novator',\n",
       " 'Varta',\n",
       " 'Kozak-2',\n",
       " 'RK-3 Corsar',\n",
       " \"MBT LAW 'NLAW'\",\n",
       " 'FGM-148 Javelin',\n",
       " '9K310 Igla-1',\n",
       " '100mm MT-12 anti-tank gun',\n",
       " '122mm D-30 howitzer',\n",
       " '152mm 2A36 Giatsint-B field-gun',\n",
       " \"ZSU-23-4 'Shilka'\",\n",
       " '5P85D (launcher for S-300PS)',\n",
       " '5P85S (launcher for S-300PS)',\n",
       " 'Buk-M1',\n",
       " \"P-14\\xa0'Tall King'\",\n",
       " \"P-35/37 'Bar Lock'\",\n",
       " \"PRV-13 'Odd Pair'\",\n",
       " \"1L22 'Parol'\",\n",
       " 'MiG-29 fighter aircraft',\n",
       " 'Su-27 fighter aircraft',\n",
       " 'Su-25 attack aircraft',\n",
       " 'An-225',\n",
       " 'Tu-141 reconnaissance UAV',\n",
       " 'Leleka-100 reconnaissance UAV',\n",
       " 'Mi-24 attack helicopter',\n",
       " \"Krivak III class frigate 'Hetman Sahaydachniy'\",\n",
       " 'Island-class patrol boat P190 Slovyansk',\n",
       " 'KrAZ-6322',\n",
       " 'KrAZ-5233',\n",
       " 'Ural-375D',\n",
       " 'KamAZ',\n",
       " 'MAZ-537',\n",
       " 'MAZ',\n",
       " 'UAZ-452',\n",
       " 'Attack On Europe',\n",
       " 'A Monument Of Victory',\n",
       " 'The Fight For Nagorno-Karabakh',\n",
       " 'American Duplicity',\n",
       " 'Unchecked Ambitions',\n",
       " 'False Flag Shenanigans',\n",
       " 'Goas In The Savanna',\n",
       " 'Hospital Diplomacy',\n",
       " 'Ripe For Success',\n",
       " 'Untapped Potential']"
      ]
     },
     "execution_count": 61,
     "metadata": {},
     "output_type": "execute_result"
    }
   ],
   "source": [
    "equipment_subtypes_auto"
   ]
  },
  {
   "cell_type": "code",
   "execution_count": 62,
   "id": "cebfd25f-ce14-4a66-bddf-656377c9341f",
   "metadata": {},
   "outputs": [],
   "source": [
    "status_types_auto_tmp = []\n",
    "status_types_auto = []"
   ]
  },
  {
   "cell_type": "code",
   "execution_count": 63,
   "id": "f4bcb017-9f38-43ee-8f5f-b5b1424ff834",
   "metadata": {},
   "outputs": [],
   "source": [
    "all_a = soup.find_all('a')"
   ]
  },
  {
   "cell_type": "code",
   "execution_count": 64,
   "id": "56f16b8e-1bb5-4171-98d5-6606a95ce280",
   "metadata": {},
   "outputs": [],
   "source": [
    "for a in all_a:\n",
    "    status = re.search(r\"\\((.*)\\)\", a.get_text())\n",
    "    if status is not None: \n",
    "        status = status.group(0)\n",
    "        status = re.sub(\"\\(\", \"\", status)\n",
    "        status = re.sub(\"\\)\", \"\", status)\n",
    "        status = re.search(r\"([^\\,]+$)\", status)\n",
    "        status = status.group(0)        \n",
    "        status = re.sub(r\"^\\s\", \"\", status)\n",
    "        status_types_auto_tmp.append([status])\n",
    "\n",
    "for i in status_types_auto_tmp:\n",
    "    if i[0] not in status_types_auto:\n",
    "        status_types_auto.append(i[0])"
   ]
  },
  {
   "cell_type": "code",
   "execution_count": 65,
   "id": "c2e9dc76-0c37-4957-9b35-af9ada5bbed2",
   "metadata": {},
   "outputs": [
    {
     "data": {
      "text/plain": [
       "['damaged',\n",
       " 'captured',\n",
       " 'destroyed',\n",
       " 'captured and later destroyed',\n",
       " 'damaged and abandoned',\n",
       " 'abandoned',\n",
       " 'damaged and captured',\n",
       " 'captured and stripped',\n",
       " 'abandoned and later destroyed',\n",
       " '33 captured',\n",
       " 'abandoned and destroyed',\n",
       " 'destroyed by Bayraktar TB2',\n",
       " 'captured and destroyed',\n",
       " '2 and 3 destroyed',\n",
       " 'damaged by Bayraktar TB2',\n",
       " 'destroyed on the ground',\n",
       " 'damaged by Bayraktar TB2 and captured',\n",
       " 'abandoned and later burned',\n",
       " 'scuttled to prevent capture by Russia',\n",
       " 'sunk',\n",
       " 'Atom',\n",
       " 'Yemen',\n",
       " 'Russia',\n",
       " 'Palestine']"
      ]
     },
     "execution_count": 65,
     "metadata": {},
     "output_type": "execute_result"
    }
   ],
   "source": [
    "status_types_auto"
   ]
  },
  {
   "cell_type": "code",
   "execution_count": 66,
   "id": "4eda3e8a-78fa-4c09-b6a3-b5c75e9539b9",
   "metadata": {},
   "outputs": [],
   "source": [
    "for h3 in all_h3:\n",
    "    if h3.get_text().count('Ukraine') == 1:\n",
    "        all_russian = h3.find_all_previous()\n",
    "        all_ukraine = h3.find_all_next()\n",
    "\n",
    "all_russian_all_ukraine = [all_russian, all_ukraine]"
   ]
  },
  {
   "cell_type": "code",
   "execution_count": 67,
   "id": "e572cb0a-b1ef-46e9-80bf-49de87f1e330",
   "metadata": {},
   "outputs": [],
   "source": [
    "list_tmp = []"
   ]
  },
  {
   "cell_type": "code",
   "execution_count": 68,
   "id": "6ce9818a-2462-4490-bcda-67181489f21a",
   "metadata": {},
   "outputs": [],
   "source": [
    "country = 'RUS'\n",
    "\n",
    "for section in all_russian_all_ukraine:\n",
    "        \n",
    "    if all_russian_all_ukraine.index(section) == 1:\n",
    "        country = 'UKR'\n",
    "    \n",
    "    for element in section:\n",
    "\n",
    "        if element.name == 'h3':\n",
    "            \n",
    "            for equipment_type_i in equipment_types_auto:\n",
    "                \n",
    "                equipment_type = element.get_text().partition(\"(\")[0]\n",
    "                equipment_type = re.sub(r\"\\s$\", \"\", equipment_type)\n",
    "                \n",
    "                if equipment_type_i == equipment_type:\n",
    "                    current_type = equipment_type_i\n",
    "                \n",
    "            ul = element.nextSibling.nextSibling\n",
    "            \n",
    "            try:\n",
    "              li_list = ul.find_all('li')\n",
    "            except:\n",
    "                pass\n",
    "            \n",
    "            for li in li_list:\n",
    "                li_a_list = li.find_all('a')\n",
    "                \n",
    "                for equipment_subtype_i in equipment_subtypes_auto:\n",
    "                    \n",
    "                    equipment_subtype = re.search(r'(.*):', li.get_text())\n",
    "                    if equipment_subtype is not None:\n",
    "                        \n",
    "                        equipment_subtype = equipment_subtype.group(0)\n",
    "                        equipment_subtype = re.sub(\"^ \\d+\", \"\", equipment_subtype)\n",
    "                        equipment_subtype = re.sub(\":\", \"\", equipment_subtype)\n",
    "                        equipment_subtype = re.sub(r\"^\\s\", \"\", equipment_subtype)\n",
    "                        \n",
    "                        if equipment_subtype_i == equipment_subtype:\n",
    "                            current_subtype = equipment_subtype_i\n",
    "                \n",
    "                for status_i in status_types_auto:\n",
    "                \n",
    "                    for single_report in li_a_list:\n",
    "                        current_a_text = single_report.get_text()\n",
    "                        current_a_text = re.sub(\"\\(\", \"\", current_a_text)\n",
    "                        current_a_text = re.sub(\"\\)\", \"\", current_a_text)  \n",
    "                        current_a_text = re.search(r\"([^\\,]+$)\", current_a_text)\n",
    "                        try:\n",
    "                            current_a_text = current_a_text.group(0)\n",
    "                            current_a_text = re.sub(r\"^\\s\", \"\", current_a_text)\n",
    "                            if status_i == current_a_text:\n",
    "                                list_tmp.append([country, current_type, current_subtype, current_a_text, single_report['href']])\n",
    "                        except:\n",
    "                            pass\n",
    "                        \n"
   ]
  },
  {
   "cell_type": "code",
   "execution_count": 69,
   "id": "6cc34b66-1705-4665-922b-0177556c3179",
   "metadata": {},
   "outputs": [],
   "source": [
    "df = pd.DataFrame(list_tmp, columns=['country', 'equipment_type', 'equipment_subtype', 'satus', 'source'])"
   ]
  },
  {
   "cell_type": "code",
   "execution_count": null,
   "id": "aeb42f9e-36f8-4fe7-bd08-cb3b6544e579",
   "metadata": {},
   "outputs": [],
   "source": [
    "df"
   ]
  },
  {
   "cell_type": "code",
   "execution_count": null,
   "id": "f510fc5b-660e-4f96-bb04-4a6f8f538ba1",
   "metadata": {},
   "outputs": [],
   "source": [
    "cwd = os.getcwd()\n",
    "now = datetime.now()\n",
    "dt_string = now.strftime(\"%Y%m%d%H%M\")\n",
    "path = cwd + '/export_' + dt_string + '.csv'\n",
    "df.to_csv(path)"
   ]
  },
  {
   "cell_type": "code",
   "execution_count": null,
   "id": "fb238574-dde7-4595-b4c8-9689923448dd",
   "metadata": {},
   "outputs": [],
   "source": []
  },
  {
   "cell_type": "code",
   "execution_count": 71,
   "id": "f55251ec-85ad-44d5-b33b-bc09a9c9c7b8",
   "metadata": {},
   "outputs": [],
   "source": [
    "sr_equipment_type = df[[\"country\", \"equipment_type\"]].groupby([\"country\", \"equipment_type\"]).size()"
   ]
  },
  {
   "cell_type": "code",
   "execution_count": 72,
   "id": "671809a3-7c1a-456f-80be-5cdf072b602e",
   "metadata": {},
   "outputs": [],
   "source": [
    "df_equipment_type = sr_equipment_type.to_frame()"
   ]
  },
  {
   "cell_type": "code",
   "execution_count": 73,
   "id": "22b9b809-73d5-42e5-a3e1-24aaf0895e94",
   "metadata": {},
   "outputs": [],
   "source": [
    "df_equipment_type = df_equipment_type.reset_index()"
   ]
  },
  {
   "cell_type": "code",
   "execution_count": 74,
   "id": "7bd40793-36e3-4d36-85e5-46efe56db581",
   "metadata": {},
   "outputs": [],
   "source": [
    "df_equipment_type.columns = [*df_equipment_type.columns[:-1], 'frequency']"
   ]
  },
  {
   "cell_type": "code",
   "execution_count": 75,
   "id": "e640e486-d304-4a9a-bca2-31b9022e7b0b",
   "metadata": {},
   "outputs": [],
   "source": [
    "df_equipment_type.loc[df_equipment_type['country']=='RUS', 'RUS'] = df_equipment_type['frequency']\n",
    "df_equipment_type.loc[df_equipment_type['country']=='UKR', 'UKR'] = df_equipment_type['frequency']"
   ]
  },
  {
   "cell_type": "code",
   "execution_count": 76,
   "id": "c03dba82-8e65-4e48-97ea-7b4e4f96b575",
   "metadata": {},
   "outputs": [
    {
     "data": {
      "image/png": "[encoded data removed]",
      "text/plain": [
       "<Figure size 360x720 with 1 Axes>"
      ]
     },
     "metadata": {
      "needs_background": "light"
     },
     "output_type": "display_data"
    }
   ],
   "source": [
    "fig, ax = plt.subplots(figsize=(5,10))\n",
    "g = sns.barplot(x=\"frequency\", y=\"equipment_type\", hue='country', data=df_equipment_type)"
   ]
  },
  {
   "cell_type": "code",
   "execution_count": null,
   "id": "4e09555d-5957-4ef4-b892-abd54234d38a",
   "metadata": {},
   "outputs": [],
   "source": []
  },
  {
   "cell_type": "code",
   "execution_count": null,
   "id": "0b2ca045-41fc-4bd0-a0a3-5367ca49fed2",
   "metadata": {},
   "outputs": [],
   "source": []
  },
  {
   "cell_type": "code",
   "execution_count": null,
   "id": "7a813b64-1cf4-470a-8b05-c83c95e9abb2",
   "metadata": {},
   "outputs": [],
   "source": []
  }
 ],
 "metadata": {
  "kernelspec": {
   "display_name": "Python 3 (ipykernel)",
   "language": "python",
   "name": "python3"
  },
  "language_info": {
   "codemirror_mode": {
    "name": "ipython",
    "version": 3
   },
   "file_extension": ".py",
   "mimetype": "text/x-python",
   "name": "python",
   "nbconvert_exporter": "python",
   "pygments_lexer": "ipython3",
   "version": "3.7.11"
  }
 },
 "nbformat": 4,
 "nbformat_minor": 5
}
