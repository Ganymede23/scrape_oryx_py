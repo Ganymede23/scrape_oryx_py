{
 "cells": [
  {
   "cell_type": "code",
   "execution_count": null,
   "id": "55fbddc8-05a8-453d-9e07-652af653f893",
   "metadata": {},
   "outputs": [],
   "source": [
    "import requests\n",
    "from bs4 import BeautifulSoup\n",
    "import pandas as pd\n",
    "import re\n",
    "import os\n",
    "from datetime import datetime\n",
    "from matplotlib import pyplot as plt\n",
    "import seaborn as sns\n",
    "\n",
    "pd.set_option('display.max_rows', None)"
   ]
  },
  {
   "cell_type": "code",
   "execution_count": null,
   "id": "c566db8e-5de6-4311-b1d4-145fd5b299be",
   "metadata": {},
   "outputs": [],
   "source": [
    "URL = \"https://www.oryxspioenkop.com/2022/02/attack-on-europe-documenting-equipment.html\"\n",
    "page = requests.get(URL)\n",
    "soup = BeautifulSoup(page.content, \"html.parser\")\n",
    "results = soup.find(id=\"post-body-8087922975012177708\")"
   ]
  },
  {
   "cell_type": "code",
   "execution_count": null,
   "id": "51b94ff4-a9ab-4343-a60c-759bd6ebe4ca",
   "metadata": {},
   "outputs": [],
   "source": [
    "all_h3 = soup.find_all('h3')"
   ]
  },
  {
   "cell_type": "code",
   "execution_count": null,
   "id": "4b92a526-2851-4b0c-9fa3-001c061a2124",
   "metadata": {},
   "outputs": [],
   "source": [
    "equipment_types_auto_tmp = []\n",
    "equipment_types_auto = []"
   ]
  },
  {
   "cell_type": "code",
   "execution_count": null,
   "id": "25f523a8-804a-4511-a2a6-68ae7234657d",
   "metadata": {},
   "outputs": [],
   "source": [
    "for h3 in all_h3:\n",
    "    if not 'Ukraine' in h3.get_text() and not 'Russia' in h3.get_text():\n",
    "        equipment_type = h3.get_text().partition(\"(\")[0]\n",
    "        equipment_type = re.sub(r\"\\s$\", \"\", equipment_type)\n",
    "        equipment_types_auto_tmp.append([equipment_type])\n",
    "        \n",
    "for i in equipment_types_auto_tmp:\n",
    "    if i not in equipment_types_auto:\n",
    "        equipment_types_auto.append(i)\n",
    "        \n",
    "equipment_types_auto = [val for sublist in equipment_types_auto for val in sublist]\n",
    "equipment_types_auto.remove('')"
   ]
  },
  {
   "cell_type": "code",
   "execution_count": null,
   "id": "0e4a98af-63ce-47da-8f55-6422f1ed65a6",
   "metadata": {},
   "outputs": [],
   "source": [
    "equipment_types_auto"
   ]
  },
  {
   "cell_type": "code",
   "execution_count": null,
   "id": "26318605-1b14-495a-b98f-43b906c7cf5c",
   "metadata": {},
   "outputs": [],
   "source": [
    "equipment_subtypes_auto_tmp = []\n",
    "equipment_subtypes_auto = []"
   ]
  },
  {
   "cell_type": "code",
   "execution_count": null,
   "id": "513f40c4-05ad-4fde-b3e8-5333ecd7f21a",
   "metadata": {},
   "outputs": [],
   "source": [
    "all_li = soup.find_all('li', attrs={'class': None})"
   ]
  },
  {
   "cell_type": "code",
   "execution_count": null,
   "id": "979a7db0-8c04-4394-a6f6-a7836de576c5",
   "metadata": {},
   "outputs": [],
   "source": [
    "for li in all_li:\n",
    "    equipment_subtype = re.search(r'(.*):', li.get_text())\n",
    "    if equipment_subtype is not None:\n",
    "        equipment_subtype = equipment_subtype.group(0)\n",
    "        equipment_subtype = re.sub(\"^ \\d+\", \"\", equipment_subtype)\n",
    "        equipment_subtype = re.sub(\":\", \"\", equipment_subtype)\n",
    "        equipment_subtype = re.sub(r\"^\\s\", \"\", equipment_subtype)\n",
    "        equipment_subtypes_auto_tmp.append([equipment_subtype])\n",
    "\n",
    "for i in equipment_subtypes_auto_tmp:\n",
    "    if i[0] not in equipment_subtypes_auto:\n",
    "        equipment_subtypes_auto.append(i[0])"
   ]
  },
  {
   "cell_type": "code",
   "execution_count": null,
   "id": "8f5f7721-6161-479f-a8bd-c2d0130a0695",
   "metadata": {},
   "outputs": [],
   "source": [
    "equipment_subtypes_auto"
   ]
  },
  {
   "cell_type": "code",
   "execution_count": null,
   "id": "cebfd25f-ce14-4a66-bddf-656377c9341f",
   "metadata": {},
   "outputs": [],
   "source": [
    "status_types_auto_tmp = []\n",
    "status_types_auto = []"
   ]
  },
  {
   "cell_type": "code",
   "execution_count": null,
   "id": "f4bcb017-9f38-43ee-8f5f-b5b1424ff834",
   "metadata": {},
   "outputs": [],
   "source": [
    "all_a = soup.find_all('a')"
   ]
  },
  {
   "cell_type": "code",
   "execution_count": null,
   "id": "56f16b8e-1bb5-4171-98d5-6606a95ce280",
   "metadata": {},
   "outputs": [],
   "source": [
    "for a in all_a:\n",
    "    status = re.search(r\"\\((.*)\\)\", a.get_text())\n",
    "    if status is not None: \n",
    "        status = status.group(0)\n",
    "        status = re.sub(\"\\(\", \"\", status)\n",
    "        status = re.sub(\"\\)\", \"\", status)\n",
    "        status = re.search(r\"([^\\,]+$)\", status)\n",
    "        status = status.group(0)        \n",
    "        status = re.sub(r\"^\\s\", \"\", status)\n",
    "        status_types_auto_tmp.append([status])\n",
    "\n",
    "for i in status_types_auto_tmp:\n",
    "    if i[0] not in status_types_auto:\n",
    "        status_types_auto.append(i[0])"
   ]
  },
  {
   "cell_type": "code",
   "execution_count": null,
   "id": "c2e9dc76-0c37-4957-9b35-af9ada5bbed2",
   "metadata": {},
   "outputs": [],
   "source": [
    "status_types_auto"
   ]
  },
  {
   "cell_type": "code",
   "execution_count": null,
   "id": "4eda3e8a-78fa-4c09-b6a3-b5c75e9539b9",
   "metadata": {},
   "outputs": [],
   "source": [
    "for h3 in all_h3:\n",
    "    if h3.get_text().count('Ukraine') == 1:\n",
    "        all_russian = h3.find_all_previous()\n",
    "        all_ukraine = h3.find_all_next()\n",
    "\n",
    "all_russian_all_ukraine = [all_russian, all_ukraine]"
   ]
  },
  {
   "cell_type": "code",
   "execution_count": null,
   "id": "e572cb0a-b1ef-46e9-80bf-49de87f1e330",
   "metadata": {},
   "outputs": [],
   "source": [
    "list_tmp = []"
   ]
  },
  {
   "cell_type": "code",
   "execution_count": null,
   "id": "6ce9818a-2462-4490-bcda-67181489f21a",
   "metadata": {},
   "outputs": [],
   "source": [
    "country = 'RUS'\n",
    "\n",
    "for section in all_russian_all_ukraine:\n",
    "        \n",
    "    if all_russian_all_ukraine.index(section) == 1:\n",
    "        country = 'UKR'\n",
    "    \n",
    "    for element in section:\n",
    "\n",
    "        if element.name == 'h3':\n",
    "            \n",
    "            for equipment_type_i in equipment_types_auto:\n",
    "                \n",
    "                equipment_type = element.get_text().partition(\"(\")[0]\n",
    "                equipment_type = re.sub(r\"\\s$\", \"\", equipment_type)\n",
    "                \n",
    "                if equipment_type_i == equipment_type:\n",
    "                    current_type = equipment_type_i\n",
    "                \n",
    "            ul = element.nextSibling.nextSibling\n",
    "            \n",
    "            try:\n",
    "              li_list = ul.find_all('li')\n",
    "            except:\n",
    "                pass\n",
    "            \n",
    "            for li in li_list:\n",
    "                li_a_list = li.find_all('a')\n",
    "                \n",
    "                for equipment_subtype_i in equipment_subtypes_auto:\n",
    "                    \n",
    "                    equipment_subtype = re.search(r'(.*):', li.get_text())\n",
    "                    if equipment_subtype is not None:\n",
    "                        \n",
    "                        equipment_subtype = equipment_subtype.group(0)\n",
    "                        equipment_subtype = re.sub(\"^ \\d+\", \"\", equipment_subtype)\n",
    "                        equipment_subtype = re.sub(\":\", \"\", equipment_subtype)\n",
    "                        equipment_subtype = re.sub(r\"^\\s\", \"\", equipment_subtype)\n",
    "                        \n",
    "                        if equipment_subtype_i == equipment_subtype:\n",
    "                            current_subtype = equipment_subtype_i\n",
    "                \n",
    "                for status_i in status_types_auto:\n",
    "                \n",
    "                    for single_report in li_a_list:\n",
    "                        current_a_text = single_report.get_text()\n",
    "                        \n",
    "                        report_numbers = re.search(r\"((?:\\d+,\\s*)+\\d+\\sand\\s\\d+|\\d+,|\\d+\\sand\\s\\d+)\", current_a_text)\n",
    "                        try:\n",
    "                            report_numbers_string = report_numbers.group()\n",
    "                            report_numbers_string = re.sub(\"and\", \"\", report_numbers_string)\n",
    "                            report_numbers_string = re.sub(\",\", \"\", report_numbers_string)\n",
    "                            report_numbers_count = len(report_numbers_string.split())\n",
    "                        except:\n",
    "                            pass\n",
    "\n",
    "                        current_a_text = re.sub(\"\\(\", \"\", current_a_text)\n",
    "                        current_a_text = re.sub(\"\\)\", \"\", current_a_text)  \n",
    "                        current_a_text = re.search(r\"([^\\,]+$)\", current_a_text)\n",
    "                        try:\n",
    "                            current_a_text = current_a_text.group(0)\n",
    "                            current_a_text = re.sub(r\"^\\s\", \"\", current_a_text)\n",
    "                            if status_i == current_a_text:\n",
    "                                for x in range(0, report_numbers_count):\n",
    "                                    list_tmp.append([country, current_type, current_subtype, current_a_text, single_report['href']])\n",
    "                        except:\n",
    "                            pass\n",
    "                        \n"
   ]
  },
  {
   "cell_type": "code",
   "execution_count": null,
   "id": "6cc34b66-1705-4665-922b-0177556c3179",
   "metadata": {},
   "outputs": [],
   "source": [
    "df = pd.DataFrame(list_tmp, columns=['country', 'equipment_type', 'equipment_subtype', 'satus', 'source'])"
   ]
  },
  {
   "cell_type": "code",
   "execution_count": null,
   "id": "aeb42f9e-36f8-4fe7-bd08-cb3b6544e579",
   "metadata": {},
   "outputs": [],
   "source": [
    "df"
   ]
  },
  {
   "cell_type": "code",
   "execution_count": null,
   "id": "f510fc5b-660e-4f96-bb04-4a6f8f538ba1",
   "metadata": {},
   "outputs": [],
   "source": [
    "cwd = os.getcwd()\n",
    "now = datetime.now()\n",
    "dt_string = now.strftime(\"%Y%m%d%H%M\")\n",
    "path = cwd + '/export_' + dt_string + '.csv'\n",
    "df.to_csv(path)"
   ]
  },
  {
   "cell_type": "code",
   "execution_count": null,
   "id": "fb238574-dde7-4595-b4c8-9689923448dd",
   "metadata": {},
   "outputs": [],
   "source": []
  },
  {
   "cell_type": "code",
   "execution_count": null,
   "id": "f55251ec-85ad-44d5-b33b-bc09a9c9c7b8",
   "metadata": {},
   "outputs": [],
   "source": [
    "sr_equipment_type = df[[\"country\", \"equipment_type\"]].groupby([\"country\", \"equipment_type\"]).size()"
   ]
  },
  {
   "cell_type": "code",
   "execution_count": null,
   "id": "671809a3-7c1a-456f-80be-5cdf072b602e",
   "metadata": {},
   "outputs": [],
   "source": [
    "df_equipment_type = sr_equipment_type.to_frame()"
   ]
  },
  {
   "cell_type": "code",
   "execution_count": null,
   "id": "22b9b809-73d5-42e5-a3e1-24aaf0895e94",
   "metadata": {},
   "outputs": [],
   "source": [
    "df_equipment_type = df_equipment_type.reset_index()"
   ]
  },
  {
   "cell_type": "code",
   "execution_count": null,
   "id": "7bd40793-36e3-4d36-85e5-46efe56db581",
   "metadata": {},
   "outputs": [],
   "source": [
    "df_equipment_type.columns = [*df_equipment_type.columns[:-1], 'losses']"
   ]
  },
  {
   "cell_type": "code",
   "execution_count": null,
   "id": "c03dba82-8e65-4e48-97ea-7b4e4f96b575",
   "metadata": {},
   "outputs": [],
   "source": [
    "fig, ax = plt.subplots(figsize=(5,10))\n",
    "g = sns.barplot(x=\"losses\", y=\"equipment_type\", hue='country', data=df_equipment_type)"
   ]
  },
  {
   "cell_type": "code",
   "execution_count": null,
   "id": "4e09555d-5957-4ef4-b892-abd54234d38a",
   "metadata": {},
   "outputs": [],
   "source": []
  },
  {
   "cell_type": "code",
   "execution_count": null,
   "id": "0b2ca045-41fc-4bd0-a0a3-5367ca49fed2",
   "metadata": {},
   "outputs": [],
   "source": []
  },
  {
   "cell_type": "code",
   "execution_count": null,
   "id": "7a813b64-1cf4-470a-8b05-c83c95e9abb2",
   "metadata": {},
   "outputs": [],
   "source": []
  }
 ],
 "metadata": {
  "kernelspec": {
   "display_name": "Python 3 (ipykernel)",
   "language": "python",
   "name": "python3"
  },
  "language_info": {
   "codemirror_mode": {
    "name": "ipython",
    "version": 3
   },
   "file_extension": ".py",
   "mimetype": "text/x-python",
   "name": "python",
   "nbconvert_exporter": "python",
   "pygments_lexer": "ipython3",
   "version": "3.7.11"
  }
 },
 "nbformat": 4,
 "nbformat_minor": 5
}
